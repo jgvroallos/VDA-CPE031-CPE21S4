{
  "nbformat": 4,
  "nbformat_minor": 0,
  "metadata": {
    "colab": {
      "provenance": [],
      "authorship_tag": "ABX9TyMQSne7BRxT8+FJmrXkdD6q",
      "include_colab_link": true
    },
    "kernelspec": {
      "name": "python3",
      "display_name": "Python 3"
    },
    "language_info": {
      "name": "python"
    }
  },
  "cells": [
    {
      "cell_type": "markdown",
      "metadata": {
        "id": "view-in-github",
        "colab_type": "text"
      },
      "source": [
        "<a href=\"https://colab.research.google.com/github/jgvroallos/VDA-CPE031-CPE21S4/blob/main/Exercise_2_VDA.ipynb\" target=\"_parent\"><img src=\"https://colab.research.google.com/assets/colab-badge.svg\" alt=\"Open In Colab\"/></a>"
      ]
    },
    {
      "cell_type": "markdown",
      "source": [
        "# Use of Pandas Library in Python"
      ],
      "metadata": {
        "id": "3YxP6HtRwQk6"
      }
    },
    {
      "cell_type": "code",
      "execution_count": 5,
      "metadata": {
        "colab": {
          "base_uri": "https://localhost:8080/"
        },
        "id": "kzAMfIZmvmVX",
        "outputId": "04ef9d7c-62ab-4b8d-ed6f-2cc000bf805b"
      },
      "outputs": [
        {
          "output_type": "stream",
          "name": "stdout",
          "text": [
            "  animals  height\n",
            "0     Cat      13\n",
            "1     Dog      17\n",
            "2  Rabbit       8\n"
          ]
        }
      ],
      "source": [
        "import pandas\n",
        "\n",
        "mydataset = {\n",
        "  'animals':[\"Cat\",\"Dog\",\"Rabbit\"],\n",
        "  'height':[13,17,8]\n",
        "  }\n",
        "\n",
        "myvar = pandas.DataFrame(mydataset) # multi-dimensional set\n",
        "\n",
        "print(myvar)"
      ]
    },
    {
      "cell_type": "markdown",
      "source": [
        "Example No.1"
      ],
      "metadata": {
        "id": "2Jr9nVyN4Kik"
      }
    },
    {
      "cell_type": "code",
      "source": [
        "import pandas as pd\n",
        "\n",
        "a = [1,7,2]\n",
        "\n",
        "myvar = pd.Series(a) # 1-dimensional set\n",
        "\n",
        "print(myvar)"
      ],
      "metadata": {
        "colab": {
          "base_uri": "https://localhost:8080/"
        },
        "id": "MMEUVBYtwSxG",
        "outputId": "c3b04670-1ebd-4d68-a008-8d69f44329e7"
      },
      "execution_count": 3,
      "outputs": [
        {
          "output_type": "stream",
          "name": "stdout",
          "text": [
            "0    1\n",
            "1    7\n",
            "2    2\n",
            "dtype: int64\n"
          ]
        }
      ]
    },
    {
      "cell_type": "markdown",
      "source": [
        "Example No. 2"
      ],
      "metadata": {
        "id": "HrjENwPi4RWm"
      }
    },
    {
      "cell_type": "code",
      "source": [
        "import pandas as pd\n",
        "\n",
        "a = [1,7,2]\n",
        "\n",
        "myvar = pd.Series(a)\n",
        "\n",
        "print(myvar[0]) # prints item/element in index"
      ],
      "metadata": {
        "colab": {
          "base_uri": "https://localhost:8080/"
        },
        "id": "Nda62v-E4U3w",
        "outputId": "9941865d-3b81-4af2-94d7-e436de28d522"
      },
      "execution_count": 4,
      "outputs": [
        {
          "output_type": "stream",
          "name": "stdout",
          "text": [
            "1\n"
          ]
        }
      ]
    },
    {
      "cell_type": "code",
      "source": [
        "import pandas as pd\n",
        "\n",
        "a = [1,7,2]\n",
        "\n",
        "myvar = pd.Series(a, index = [\"x\",\"y\",\"z\"]) # puts labels\n",
        "\n",
        "print(myvar)"
      ],
      "metadata": {
        "colab": {
          "base_uri": "https://localhost:8080/"
        },
        "id": "c3H0FzxN68Sz",
        "outputId": "fb8caff9-da0b-4925-bea1-3e133323d9bc"
      },
      "execution_count": 6,
      "outputs": [
        {
          "output_type": "stream",
          "name": "stdout",
          "text": [
            "x    1\n",
            "y    7\n",
            "z    2\n",
            "dtype: int64\n"
          ]
        }
      ]
    },
    {
      "cell_type": "markdown",
      "source": [
        "Example No. 3"
      ],
      "metadata": {
        "id": "1vUh8Odn7pcI"
      }
    },
    {
      "cell_type": "code",
      "source": [
        "import pandas as pd\n",
        "\n",
        "data = {\"age\": [42, 38, 39],\n",
        "        \"weight\": [50, 40, 45]\n",
        "       }\n",
        "\n",
        "myvar = pd.DataFrame(data)\n",
        "\n",
        "print(myvar)"
      ],
      "metadata": {
        "colab": {
          "base_uri": "https://localhost:8080/"
        },
        "id": "10YHhknR7s5T",
        "outputId": "9cc1458d-2464-4b17-8573-cd02a7b5efdf"
      },
      "execution_count": 7,
      "outputs": [
        {
          "output_type": "stream",
          "name": "stdout",
          "text": [
            "   age  weight\n",
            "0   42      50\n",
            "1   38      40\n",
            "2   39      45\n"
          ]
        }
      ]
    },
    {
      "cell_type": "markdown",
      "source": [
        "Locating Rows"
      ],
      "metadata": {
        "id": "p2fMxbqX8y56"
      }
    },
    {
      "cell_type": "code",
      "source": [
        "import pandas as pd\n",
        "\n",
        "a = [1,7,2]\n",
        "\n",
        "myvar = pd.Series(a)\n",
        "\n",
        "print(myvar.loc[0]) # var.loc[index]"
      ],
      "metadata": {
        "colab": {
          "base_uri": "https://localhost:8080/"
        },
        "id": "ub2HlMYi82PN",
        "outputId": "1ebd9592-d515-4aad-f503-f468585f0e0b"
      },
      "execution_count": 17,
      "outputs": [
        {
          "output_type": "stream",
          "name": "stdout",
          "text": [
            "1\n"
          ]
        }
      ]
    },
    {
      "cell_type": "code",
      "source": [
        "import pandas as pd\n",
        "\n",
        "data = {\"age\": [42, 38, 39],\n",
        "        \"weight\": [50, 40, 45]\n",
        "       }\n",
        "\n",
        "myvar = pd.DataFrame(data)\n",
        "\n",
        "print(myvar.loc[[0,1]]) # var.loc[[multiple indexes]]"
      ],
      "metadata": {
        "colab": {
          "base_uri": "https://localhost:8080/"
        },
        "id": "rGrvfaLD8-85",
        "outputId": "e2a8b917-0bd5-412e-cd27-8ac4a39e8099"
      },
      "execution_count": 18,
      "outputs": [
        {
          "output_type": "stream",
          "name": "stdout",
          "text": [
            "   age  weight\n",
            "0   42      50\n",
            "1   38      40\n"
          ]
        }
      ]
    },
    {
      "cell_type": "markdown",
      "source": [
        "Named Indexes"
      ],
      "metadata": {
        "id": "sfAzcxFn_VAN"
      }
    },
    {
      "cell_type": "code",
      "source": [
        "import pandas as pd\n",
        "\n",
        "data = {\"calories\": [420, 380, 390],\n",
        "        \"duration\": [50, 40, 45]\n",
        "       }\n",
        "\n",
        "df = pd.DataFrame(data, index = [\"day1\", \"day2\", \"day3\"]) #labelling dataframes\n",
        "\n",
        "print(df)"
      ],
      "metadata": {
        "colab": {
          "base_uri": "https://localhost:8080/"
        },
        "id": "wgQUEhKZ_W7B",
        "outputId": "b6b29869-66d6-4460-a832-66e3a9116896"
      },
      "execution_count": 19,
      "outputs": [
        {
          "output_type": "stream",
          "name": "stdout",
          "text": [
            "      calories  duration\n",
            "day1       420        50\n",
            "day2       380        40\n",
            "day3       390        45\n"
          ]
        }
      ]
    },
    {
      "cell_type": "markdown",
      "source": [
        "Example No. 4"
      ],
      "metadata": {
        "id": "reo2hyy1AOhr"
      }
    },
    {
      "cell_type": "code",
      "source": [
        "import pandas as pd\n",
        "\n",
        "s1 = pd.Series([0,4,8])\n",
        "s2 = pd.Series([1,5,9])\n",
        "s3 = pd.Series([2,6,10])\n",
        "\n",
        "dframe = pd.DataFrame([s1,s2,s3])\n",
        "\n",
        "#print(dframe.loc[[1,2]])\n",
        "print(dframe.drop(0))"
      ],
      "metadata": {
        "colab": {
          "base_uri": "https://localhost:8080/"
        },
        "id": "OVydM0g9AOAn",
        "outputId": "5b86204f-9958-4cd3-92de-1a289fbaefc7"
      },
      "execution_count": 26,
      "outputs": [
        {
          "output_type": "stream",
          "name": "stdout",
          "text": [
            "   0  1   2\n",
            "1  1  5   9\n",
            "2  2  6  10\n"
          ]
        }
      ]
    },
    {
      "cell_type": "markdown",
      "source": [
        "Example No. 5"
      ],
      "metadata": {
        "id": "aVX8j3TNGKfz"
      }
    },
    {
      "cell_type": "code",
      "source": [
        "import pandas as pd\n",
        "s1 = pd.Series([0,4,8])\n",
        "s2 = pd.Series([1,5,9])\n",
        "s3 = pd.Series([2,6,10])\n",
        "s4 = pd.Series([5,10,15])\n",
        "\n",
        "#creating multi-dimensional table\n",
        "dframe = pd.DataFrame([s1,s2,s3,s4],index =[0,1,2,3], columns =[0,1,2])\n",
        "print(dframe)"
      ],
      "metadata": {
        "colab": {
          "base_uri": "https://localhost:8080/"
        },
        "id": "S2YFtg9kIcv8",
        "outputId": "4c1823d6-e19a-434b-f0e7-3d1391614b04"
      },
      "execution_count": 41,
      "outputs": [
        {
          "output_type": "stream",
          "name": "stdout",
          "text": [
            "   0   1   2\n",
            "0  0   4   8\n",
            "1  1   5   9\n",
            "2  2   6  10\n",
            "3  5  10  15\n"
          ]
        }
      ]
    },
    {
      "cell_type": "code",
      "source": [
        "import pandas as pd\n",
        "\n",
        "s1 = pd.Series([0,4,8])\n",
        "s2 = pd.Series([1,5,9])\n",
        "s3 = pd.Series([2,6,10])\n",
        "\n",
        "dframe = pd.DataFrame([s1,s2,s3])\n",
        "\n",
        "s4 = pd.Series([5,10,15])\n",
        "\n",
        "dframe = dframe._append(s4, ignore_index = True)\n",
        "#dframe = pd.concat([dframe, s4], ignore_index = True)\n",
        "\n",
        "print(dframe)"
      ],
      "metadata": {
        "colab": {
          "base_uri": "https://localhost:8080/"
        },
        "id": "GnbjCExgDWtH",
        "outputId": "22b0161c-bceb-4db0-8af9-e39143f85af3"
      },
      "execution_count": 38,
      "outputs": [
        {
          "output_type": "stream",
          "name": "stdout",
          "text": [
            "   0   1   2\n",
            "0  0   4   8\n",
            "1  1   5   9\n",
            "2  2   6  10\n",
            "3  5  10  15\n"
          ]
        }
      ]
    },
    {
      "cell_type": "markdown",
      "source": [
        "# Challenge Section"
      ],
      "metadata": {
        "id": "oQD_XxM6GPGU"
      }
    },
    {
      "cell_type": "markdown",
      "source": [
        "How are you going to delete indices no. 0, 1 and 3, leaving only all items of index 2?"
      ],
      "metadata": {
        "id": "zGSJh1seGXVk"
      }
    },
    {
      "cell_type": "code",
      "source": [
        "import pandas as pd\n",
        "\n",
        "s1 = pd.Series([0,4,8])\n",
        "s2 = pd.Series([1,5,9])\n",
        "s3 = pd.Series([2,6,10])\n",
        "s4 = pd.Series([5,10,15])\n",
        "\n",
        "dframe = pd.DataFrame([s1,s2,s3,s4]) #compiling series to one dataframe\n",
        "\n",
        "dframe = dframe.drop([0,1,3]) #removes data from 0, 1 and 3\n",
        "\n",
        "print(dframe)"
      ],
      "metadata": {
        "colab": {
          "base_uri": "https://localhost:8080/"
        },
        "id": "uzy_uu1HGVf1",
        "outputId": "a2fa6168-45b2-4157-f403-eaa1fcb0fe99"
      },
      "execution_count": 44,
      "outputs": [
        {
          "output_type": "stream",
          "name": "stdout",
          "text": [
            "   0  1   2\n",
            "2  2  6  10\n"
          ]
        }
      ]
    }
  ]
}