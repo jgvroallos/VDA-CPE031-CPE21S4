{
  "nbformat": 4,
  "nbformat_minor": 0,
  "metadata": {
    "colab": {
      "provenance": [],
      "toc_visible": true,
      "authorship_tag": "ABX9TyMUKaL4bsak1Ec7cOmcMSbw",
      "include_colab_link": true
    },
    "kernelspec": {
      "name": "python3",
      "display_name": "Python 3"
    },
    "language_info": {
      "name": "python"
    }
  },
  "cells": [
    {
      "cell_type": "markdown",
      "metadata": {
        "id": "view-in-github",
        "colab_type": "text"
      },
      "source": [
        "<a href=\"https://colab.research.google.com/github/jgvroallos/VDA-CPE031-CPE21S4/blob/main/Exercise_1_VDA.ipynb\" target=\"_parent\"><img src=\"https://colab.research.google.com/assets/colab-badge.svg\" alt=\"Open In Colab\"/></a>"
      ]
    },
    {
      "cell_type": "markdown",
      "source": [
        "# Exercise No. 1: I. Variables and Data Types"
      ],
      "metadata": {
        "id": "mb7-yuw70tSx"
      }
    },
    {
      "cell_type": "markdown",
      "source": [
        "NUMBERS"
      ],
      "metadata": {
        "id": "MqVbaCQ_Gm_n"
      }
    },
    {
      "cell_type": "code",
      "source": [
        "varNum = 123\n",
        "pi = 3.14159"
      ],
      "metadata": {
        "id": "stpUMOAx0xOQ"
      },
      "execution_count": null,
      "outputs": []
    },
    {
      "cell_type": "markdown",
      "source": [
        "STRING"
      ],
      "metadata": {
        "id": "OcKRNqDA4TKp"
      }
    },
    {
      "cell_type": "code",
      "source": [
        "varString = \"Hello World!\"\n",
        "varText = 'This is a String'"
      ],
      "metadata": {
        "id": "0fxRueMP2v8x"
      },
      "execution_count": null,
      "outputs": []
    },
    {
      "cell_type": "markdown",
      "source": [
        "LIST"
      ],
      "metadata": {
        "id": "Cd9Bo8aR4Wzq"
      }
    },
    {
      "cell_type": "code",
      "source": [
        "varList = [\"abc\", 123]"
      ],
      "metadata": {
        "id": "NuCJEws227ox"
      },
      "execution_count": null,
      "outputs": []
    },
    {
      "cell_type": "markdown",
      "source": [
        "TUPLE"
      ],
      "metadata": {
        "id": "ZNOPHCm14XoK"
      }
    },
    {
      "cell_type": "code",
      "source": [
        "varTuple = ('abc',123,\"HELLO\")"
      ],
      "metadata": {
        "id": "mIcpIWBH3B-5"
      },
      "execution_count": null,
      "outputs": []
    },
    {
      "cell_type": "markdown",
      "source": [
        "DICTIONARY"
      ],
      "metadata": {
        "id": "lVY-EbwF4YYS"
      }
    },
    {
      "cell_type": "code",
      "source": [
        "var = 3\n",
        "varDict = {'first':1,'2':'2nd',3:var}"
      ],
      "metadata": {
        "id": "9C2Az0Tc3CNQ"
      },
      "execution_count": null,
      "outputs": []
    },
    {
      "cell_type": "code",
      "source": [
        "varDict = {}\n",
        "varDict['first']=1\n",
        "varDict['2']='2nd'\n",
        "varDict[3]=var"
      ],
      "metadata": {
        "id": "5GVv5T8b3fyZ"
      },
      "execution_count": null,
      "outputs": []
    },
    {
      "cell_type": "markdown",
      "source": [
        "# Exercise No.1: II. Arithmetic"
      ],
      "metadata": {
        "id": "O_lrn-Wm1jKB"
      }
    },
    {
      "cell_type": "markdown",
      "source": [
        "ADDITION"
      ],
      "metadata": {
        "id": "H_qF4Qq_5IkJ"
      }
    },
    {
      "cell_type": "code",
      "source": [
        "a = 5 + 3"
      ],
      "metadata": {
        "id": "LoeJsTXT4lfp"
      },
      "execution_count": null,
      "outputs": []
    },
    {
      "cell_type": "markdown",
      "source": [
        "SUBTRACTION"
      ],
      "metadata": {
        "id": "ymTUD8cP5G2Z"
      }
    },
    {
      "cell_type": "code",
      "source": [
        "a = 5 - 3"
      ],
      "metadata": {
        "id": "nRWTN-Ih4pwh"
      },
      "execution_count": null,
      "outputs": []
    },
    {
      "cell_type": "markdown",
      "source": [
        "MULTIPLICATION"
      ],
      "metadata": {
        "id": "VrNDND-H5FFa"
      }
    },
    {
      "cell_type": "code",
      "source": [
        "a = 5 * 3"
      ],
      "metadata": {
        "id": "r4LnjG1W4r4K"
      },
      "execution_count": null,
      "outputs": []
    },
    {
      "cell_type": "markdown",
      "source": [
        "EXPONENT"
      ],
      "metadata": {
        "id": "AqxmXoex5DMR"
      }
    },
    {
      "cell_type": "code",
      "source": [
        "a = 5**3"
      ],
      "metadata": {
        "id": "vfpIiozQ4sqp"
      },
      "execution_count": null,
      "outputs": []
    },
    {
      "cell_type": "markdown",
      "source": [
        "DIVISION"
      ],
      "metadata": {
        "id": "s7FDUKuf5Kw5"
      }
    },
    {
      "cell_type": "code",
      "source": [
        "a = 5 / 3"
      ],
      "metadata": {
        "id": "mqh5pe1w4tWy"
      },
      "execution_count": null,
      "outputs": []
    },
    {
      "cell_type": "code",
      "source": [
        "a = 5 % 3"
      ],
      "metadata": {
        "id": "RJaIpoZe4tuR"
      },
      "execution_count": null,
      "outputs": []
    },
    {
      "cell_type": "code",
      "source": [
        "a = 5 // 3"
      ],
      "metadata": {
        "id": "N6Ud9peO4t8B"
      },
      "execution_count": null,
      "outputs": []
    },
    {
      "cell_type": "markdown",
      "source": [
        "INCREMENT/DECREMENT"
      ],
      "metadata": {
        "id": "lo0ADc-m5Q7C"
      }
    },
    {
      "cell_type": "code",
      "source": [
        "a = 5\n",
        "a += 1"
      ],
      "metadata": {
        "id": "mKTz1yHS56Fx"
      },
      "execution_count": null,
      "outputs": []
    },
    {
      "cell_type": "markdown",
      "source": [
        "DECREMENT"
      ],
      "metadata": {
        "id": "tw_5T99-6pIN"
      }
    },
    {
      "cell_type": "code",
      "source": [
        "a = 5\n",
        "a -= 1"
      ],
      "metadata": {
        "id": "Gs33nIn457Kp"
      },
      "execution_count": null,
      "outputs": []
    },
    {
      "cell_type": "markdown",
      "source": [
        "STRING CONCATENATION"
      ],
      "metadata": {
        "id": "fjIF1CR36sjp"
      }
    },
    {
      "cell_type": "code",
      "source": [
        "a = 'Hello' + 'World!'"
      ],
      "metadata": {
        "id": "pdxszcZb57xp"
      },
      "execution_count": null,
      "outputs": []
    },
    {
      "cell_type": "markdown",
      "source": [
        "COMPLEX EXPRESSION"
      ],
      "metadata": {
        "id": "yTw7rcPO6w4B"
      }
    },
    {
      "cell_type": "code",
      "source": [
        "a = 3 + 5 - 6 * 2 / 4"
      ],
      "metadata": {
        "id": "MWUmKO_c6Lrh"
      },
      "execution_count": null,
      "outputs": []
    },
    {
      "cell_type": "markdown",
      "source": [
        "# Exercise No.1: III. Control Statements and Data Structures"
      ],
      "metadata": {
        "id": "Szkhe5te7LrR"
      }
    },
    {
      "cell_type": "markdown",
      "source": [
        "BOOLEAN"
      ],
      "metadata": {
        "id": "K7ACxD7t7SSR"
      }
    },
    {
      "cell_type": "code",
      "source": [
        "x = True\n",
        "\n",
        "if x:\n",
        "  print(\"var x is True\")\n",
        "else:\n",
        "  print(\"var x is False\")"
      ],
      "metadata": {
        "colab": {
          "base_uri": "https://localhost:8080/"
        },
        "id": "07b-Bgd87bU5",
        "outputId": "5547dca0-a986-4fa4-fc29-f0eaf9bffa12"
      },
      "execution_count": null,
      "outputs": [
        {
          "output_type": "stream",
          "name": "stdout",
          "text": [
            "var x is True\n"
          ]
        }
      ]
    },
    {
      "cell_type": "markdown",
      "source": [
        "STRING"
      ],
      "metadata": {
        "id": "iKTdoHpN7V4A"
      }
    },
    {
      "cell_type": "code",
      "source": [
        "x = \"Hello World!\"\n",
        "\n",
        "if x == 'Hello World!':\n",
        "  print(\"var x is Hello World!\")\n",
        "else:\n",
        "  print(\"var x is Hello World!\")"
      ],
      "metadata": {
        "colab": {
          "base_uri": "https://localhost:8080/"
        },
        "id": "HVDVaJ3V7byx",
        "outputId": "e29a4a1e-300d-4282-97b2-da5306b2edab"
      },
      "execution_count": null,
      "outputs": [
        {
          "output_type": "stream",
          "name": "stdout",
          "text": [
            "var x is Hello World!\n"
          ]
        }
      ]
    },
    {
      "cell_type": "markdown",
      "source": [
        "NUMERICAL"
      ],
      "metadata": {
        "id": "_KwUci4M7WaB"
      }
    },
    {
      "cell_type": "code",
      "source": [
        "x = 10\n",
        "\n",
        "if x == '10':\n",
        "  print(\"var x is a string\")\n",
        "elif x == 10:\n",
        "  print(\"var x is an integer\")\n",
        "else:\n",
        "  print(\"var x is is none of the above\")"
      ],
      "metadata": {
        "colab": {
          "base_uri": "https://localhost:8080/"
        },
        "id": "W50SYyCD7cDB",
        "outputId": "202d4f94-b867-420d-d01f-682e89e10f2b"
      },
      "execution_count": null,
      "outputs": [
        {
          "output_type": "stream",
          "name": "stdout",
          "text": [
            "var x is an integer\n"
          ]
        }
      ]
    },
    {
      "cell_type": "markdown",
      "source": [
        "# Exercise No.1: IV. Loops"
      ],
      "metadata": {
        "id": "bXZl2XmB-XFq"
      }
    },
    {
      "cell_type": "markdown",
      "source": [
        "FOR LOOPS"
      ],
      "metadata": {
        "id": "-WGG4ysz9VLa"
      }
    },
    {
      "cell_type": "code",
      "source": [
        "for var in range(0,5,2):\n",
        "  print(var)"
      ],
      "metadata": {
        "colab": {
          "base_uri": "https://localhost:8080/"
        },
        "id": "LjmcuY9Q9Xiy",
        "outputId": "4a2a5b14-68aa-443c-9077-8bfd921e4456"
      },
      "execution_count": null,
      "outputs": [
        {
          "output_type": "stream",
          "name": "stdout",
          "text": [
            "0\n",
            "2\n",
            "4\n"
          ]
        }
      ]
    },
    {
      "cell_type": "markdown",
      "source": [
        "WHILE LOOPS"
      ],
      "metadata": {
        "id": "wbFwLkxY9X0l"
      }
    },
    {
      "cell_type": "code",
      "source": [
        "var = 0\n",
        "while var < 5:\n",
        "  print(var)\n",
        "  var += 2"
      ],
      "metadata": {
        "colab": {
          "base_uri": "https://localhost:8080/"
        },
        "id": "7ANiwTZs9Z7G",
        "outputId": "d2e84364-bf4a-42c6-9735-d33190bec88b"
      },
      "execution_count": null,
      "outputs": [
        {
          "output_type": "stream",
          "name": "stdout",
          "text": [
            "0\n",
            "2\n",
            "4\n"
          ]
        }
      ]
    },
    {
      "cell_type": "markdown",
      "source": [
        "NESTED LOOPS"
      ],
      "metadata": {
        "id": "i20yucxQ9ZbA"
      }
    },
    {
      "cell_type": "code",
      "source": [
        "x = 0\n",
        "while x < 5:\n",
        "  for y in range(0, x):\n",
        "    print(y, end='')\n",
        "  x += 1\n",
        "  print()"
      ],
      "metadata": {
        "colab": {
          "base_uri": "https://localhost:8080/"
        },
        "id": "rib7-K439wYa",
        "outputId": "dbc89543-29cb-4ccb-97fb-e02cb0c3834c"
      },
      "execution_count": null,
      "outputs": [
        {
          "output_type": "stream",
          "name": "stdout",
          "text": [
            "\n",
            "0\n",
            "01\n",
            "012\n",
            "0123\n"
          ]
        }
      ]
    },
    {
      "cell_type": "markdown",
      "source": [
        "# Exercise No.1: V. Lists"
      ],
      "metadata": {
        "id": "ZZTsG9W_9wCJ"
      }
    },
    {
      "cell_type": "markdown",
      "source": [
        "LIST"
      ],
      "metadata": {
        "id": "ZYeI2gG-D33x"
      }
    },
    {
      "cell_type": "code",
      "source": [
        "pi = 3.14159\n",
        "varList = [1,2,'A','B','Hello!', pi]\n",
        "print(varList[0])"
      ],
      "metadata": {
        "colab": {
          "base_uri": "https://localhost:8080/"
        },
        "id": "obUSQ3Xd_dSK",
        "outputId": "5be294c9-04da-4b95-ebd6-f6204f3c86fc"
      },
      "execution_count": null,
      "outputs": [
        {
          "output_type": "stream",
          "name": "stdout",
          "text": [
            "1\n"
          ]
        }
      ]
    },
    {
      "cell_type": "code",
      "source": [
        "print(varList[4])"
      ],
      "metadata": {
        "colab": {
          "base_uri": "https://localhost:8080/"
        },
        "id": "tCq_Dlg9AJ1y",
        "outputId": "65274ada-7dd2-42a8-e6f7-f5b156607a04"
      },
      "execution_count": null,
      "outputs": [
        {
          "output_type": "stream",
          "name": "stdout",
          "text": [
            "Hello!\n"
          ]
        }
      ]
    },
    {
      "cell_type": "code",
      "source": [
        "varList.append('World!')\n",
        "print(varList[6])"
      ],
      "metadata": {
        "colab": {
          "base_uri": "https://localhost:8080/"
        },
        "id": "OFpIyI9iAMdq",
        "outputId": "9b6a54c0-128a-44ec-aa8f-78e06296dda3"
      },
      "execution_count": null,
      "outputs": [
        {
          "output_type": "stream",
          "name": "stdout",
          "text": [
            "World!\n"
          ]
        }
      ]
    },
    {
      "cell_type": "code",
      "source": [
        "len(varList)"
      ],
      "metadata": {
        "colab": {
          "base_uri": "https://localhost:8080/"
        },
        "id": "tZ_y5nB9A-v8",
        "outputId": "360f85ba-fdf1-4816-d717-5cd2edab3c24"
      },
      "execution_count": null,
      "outputs": [
        {
          "output_type": "execute_result",
          "data": {
            "text/plain": [
              "7"
            ]
          },
          "metadata": {},
          "execution_count": 85
        }
      ]
    },
    {
      "cell_type": "code",
      "source": [
        "print(varList[5])"
      ],
      "metadata": {
        "colab": {
          "base_uri": "https://localhost:8080/"
        },
        "id": "eioFU3CsANjS",
        "outputId": "af5d7d4c-2d54-48d5-d177-dccbf575b720"
      },
      "execution_count": null,
      "outputs": [
        {
          "output_type": "stream",
          "name": "stdout",
          "text": [
            "3.14159\n"
          ]
        }
      ]
    },
    {
      "cell_type": "code",
      "source": [
        "varList.remove(pi)\n",
        "print(varList[5])"
      ],
      "metadata": {
        "colab": {
          "base_uri": "https://localhost:8080/"
        },
        "id": "GV1am6DWBQB7",
        "outputId": "02a11607-726d-4d8d-e6f9-3b2da425a461"
      },
      "execution_count": null,
      "outputs": [
        {
          "output_type": "stream",
          "name": "stdout",
          "text": [
            "World!\n"
          ]
        }
      ]
    },
    {
      "cell_type": "markdown",
      "source": [
        "# Exercise No.1: VII. Dictionaries"
      ],
      "metadata": {
        "id": "_8Sko-oiEPYI"
      }
    },
    {
      "cell_type": "markdown",
      "source": [
        "DICTIONARIES"
      ],
      "metadata": {
        "id": "bq-ufQtcBwmC"
      }
    },
    {
      "cell_type": "code",
      "source": [
        "var = \"Hello World!\"\n",
        "varDict = {'first':123, 2:\"abc\", '3':var, 4:['lista','listb']}\n",
        "print(varDict['first'])"
      ],
      "metadata": {
        "colab": {
          "base_uri": "https://localhost:8080/"
        },
        "id": "p2oqC_hyBwBy",
        "outputId": "f8dd4c0e-dfc3-4bce-9b98-f59e76a41de5"
      },
      "execution_count": null,
      "outputs": [
        {
          "output_type": "stream",
          "name": "stdout",
          "text": [
            "123\n"
          ]
        }
      ]
    },
    {
      "cell_type": "code",
      "source": [
        "print(varDict[2])"
      ],
      "metadata": {
        "colab": {
          "base_uri": "https://localhost:8080/"
        },
        "id": "6DoKpR0GCaQj",
        "outputId": "f9114e2e-6137-4935-fea6-54498d1bfef4"
      },
      "execution_count": null,
      "outputs": [
        {
          "output_type": "stream",
          "name": "stdout",
          "text": [
            "abc\n"
          ]
        }
      ]
    },
    {
      "cell_type": "code",
      "source": [
        "print(varDict['3'])"
      ],
      "metadata": {
        "colab": {
          "base_uri": "https://localhost:8080/"
        },
        "id": "ajg5JpjuCnGK",
        "outputId": "92b2d783-d33f-4c93-927f-17eec4da0830"
      },
      "execution_count": null,
      "outputs": [
        {
          "output_type": "stream",
          "name": "stdout",
          "text": [
            "Hello World!\n"
          ]
        }
      ]
    },
    {
      "cell_type": "code",
      "source": [
        "print(varDict[4])"
      ],
      "metadata": {
        "colab": {
          "base_uri": "https://localhost:8080/"
        },
        "id": "1KclPDOgCojj",
        "outputId": "1e39fce0-f8d6-430b-c12a-46d44e536dd3"
      },
      "execution_count": null,
      "outputs": [
        {
          "output_type": "stream",
          "name": "stdout",
          "text": [
            "['lista', 'listb']\n"
          ]
        }
      ]
    },
    {
      "cell_type": "code",
      "source": [
        "print(varDict[4][1])"
      ],
      "metadata": {
        "colab": {
          "base_uri": "https://localhost:8080/"
        },
        "id": "QvETgjo6CrXq",
        "outputId": "68c9bfb3-9583-47e6-edee-94f1a21a2fc0"
      },
      "execution_count": null,
      "outputs": [
        {
          "output_type": "stream",
          "name": "stdout",
          "text": [
            "listb\n"
          ]
        }
      ]
    },
    {
      "cell_type": "code",
      "source": [
        "len(varDict)"
      ],
      "metadata": {
        "colab": {
          "base_uri": "https://localhost:8080/"
        },
        "id": "E1_MJXzQCxOi",
        "outputId": "9512ea22-b51c-4bbb-b8f9-6b6c34957ebe"
      },
      "execution_count": null,
      "outputs": [
        {
          "output_type": "execute_result",
          "data": {
            "text/plain": [
              "4"
            ]
          },
          "metadata": {},
          "execution_count": 93
        }
      ]
    },
    {
      "cell_type": "markdown",
      "source": [
        "# Exercise No.1: VIII. List Generators and Comprehension\n",
        "\n"
      ],
      "metadata": {
        "id": "JKDESzh3EWFj"
      }
    },
    {
      "cell_type": "markdown",
      "source": [
        "LIST GENERATORS AND COMPREHENSION"
      ],
      "metadata": {
        "id": "mhe6eScsD2GE"
      }
    },
    {
      "cell_type": "code",
      "source": [
        "def gen_num_up_to(n):\n",
        "    num = 0\n",
        "    while num < n:\n",
        "      yield num\n",
        "      num += 1"
      ],
      "metadata": {
        "id": "zCg2sjB6C0wS"
      },
      "execution_count": null,
      "outputs": []
    },
    {
      "cell_type": "code",
      "source": [
        "gen_num_up_to(5)"
      ],
      "metadata": {
        "colab": {
          "base_uri": "https://localhost:8080/"
        },
        "id": "DmcXi3rTEr5j",
        "outputId": "902082aa-f13d-4e58-cd92-bd745c97bb45"
      },
      "execution_count": null,
      "outputs": [
        {
          "output_type": "execute_result",
          "data": {
            "text/plain": [
              "<generator object gen_num_up_to at 0x78ea4c940f90>"
            ]
          },
          "metadata": {},
          "execution_count": 95
        }
      ]
    },
    {
      "cell_type": "code",
      "source": [
        "varList = gen_num_up_to(5)\n",
        "print([var for var in varList])"
      ],
      "metadata": {
        "colab": {
          "base_uri": "https://localhost:8080/"
        },
        "id": "uu0meX5zEy-j",
        "outputId": "b8a87381-4c08-4cd2-c78e-9ca656b61681"
      },
      "execution_count": null,
      "outputs": [
        {
          "output_type": "stream",
          "name": "stdout",
          "text": [
            "[0, 1, 2, 3, 4]\n"
          ]
        }
      ]
    },
    {
      "cell_type": "code",
      "source": [
        "def gen_num_up_to(n):\n",
        "    num = 0\n",
        "    while num < n:\n",
        "      yield num\n",
        "      num += 2\n",
        "\n",
        "varList = gen_num_up_to(5)\n",
        "print([var for var in varList])"
      ],
      "metadata": {
        "colab": {
          "base_uri": "https://localhost:8080/"
        },
        "id": "h_v9BxO6FGZ6",
        "outputId": "c8d0d1a5-bd42-47d0-b1ec-aab95ef8b332"
      },
      "execution_count": null,
      "outputs": [
        {
          "output_type": "stream",
          "name": "stdout",
          "text": [
            "[0, 2, 4]\n"
          ]
        }
      ]
    },
    {
      "cell_type": "code",
      "source": [
        "varList = range(0, 5, 2)\n",
        "print([var for var in varList])"
      ],
      "metadata": {
        "colab": {
          "base_uri": "https://localhost:8080/"
        },
        "id": "64AurII7FP-j",
        "outputId": "6fcb2660-ba10-4889-893c-364445f68c8f"
      },
      "execution_count": 17,
      "outputs": [
        {
          "output_type": "stream",
          "name": "stdout",
          "text": [
            "[0, 2, 4]\n"
          ]
        }
      ]
    },
    {
      "cell_type": "markdown",
      "source": [
        "SLICING"
      ],
      "metadata": {
        "id": "N8skX8OvGrZj"
      }
    },
    {
      "cell_type": "code",
      "source": [
        "varList = [1,2,3,4,5,6,7,8,9,10]\n",
        "print(varList[:5])"
      ],
      "metadata": {
        "colab": {
          "base_uri": "https://localhost:8080/"
        },
        "id": "kETzkXlCFbd7",
        "outputId": "025f1786-1e59-4e2b-c846-74c7244f1286"
      },
      "execution_count": null,
      "outputs": [
        {
          "output_type": "stream",
          "name": "stdout",
          "text": [
            "[1, 2, 3, 4, 5]\n"
          ]
        }
      ]
    },
    {
      "cell_type": "code",
      "source": [
        "print(varList[5:])"
      ],
      "metadata": {
        "colab": {
          "base_uri": "https://localhost:8080/"
        },
        "id": "8Fgt2SVSG2Wt",
        "outputId": "59f2a5f7-e530-442d-cffa-4c41d06fc23a"
      },
      "execution_count": null,
      "outputs": [
        {
          "output_type": "stream",
          "name": "stdout",
          "text": [
            "[6, 7, 8, 9, 10]\n"
          ]
        }
      ]
    },
    {
      "cell_type": "code",
      "source": [
        "print(varList[:-2])"
      ],
      "metadata": {
        "colab": {
          "base_uri": "https://localhost:8080/"
        },
        "id": "ury4mJqFG9RF",
        "outputId": "1004ec62-c971-4dea-c12e-162e5b7eb68c"
      },
      "execution_count": null,
      "outputs": [
        {
          "output_type": "stream",
          "name": "stdout",
          "text": [
            "[1, 2, 3, 4, 5, 6, 7, 8]\n"
          ]
        }
      ]
    },
    {
      "cell_type": "code",
      "source": [
        "print(varList[-2:])"
      ],
      "metadata": {
        "colab": {
          "base_uri": "https://localhost:8080/"
        },
        "id": "h8vmeaJWHBpM",
        "outputId": "f1ed36b9-d9b5-4fe6-e611-85975398df13"
      },
      "execution_count": null,
      "outputs": [
        {
          "output_type": "stream",
          "name": "stdout",
          "text": [
            "[9, 10]\n"
          ]
        }
      ]
    },
    {
      "cell_type": "code",
      "source": [
        "print(varList[2:-2])"
      ],
      "metadata": {
        "colab": {
          "base_uri": "https://localhost:8080/"
        },
        "id": "FsuSk1KGHGG8",
        "outputId": "a65416c2-4e25-416f-9982-bf2798742823"
      },
      "execution_count": null,
      "outputs": [
        {
          "output_type": "stream",
          "name": "stdout",
          "text": [
            "[3, 4, 5, 6, 7, 8]\n"
          ]
        }
      ]
    },
    {
      "cell_type": "code",
      "source": [
        "print(varList[2:8:2])"
      ],
      "metadata": {
        "colab": {
          "base_uri": "https://localhost:8080/"
        },
        "id": "hG_PjRPyHLJE",
        "outputId": "b92aacbb-3df8-41a3-ca51-eb8c427b42a4"
      },
      "execution_count": null,
      "outputs": [
        {
          "output_type": "stream",
          "name": "stdout",
          "text": [
            "[3, 5, 7]\n"
          ]
        }
      ]
    },
    {
      "cell_type": "markdown",
      "source": [
        "NOTE:\n",
        "*   *list(start:)*\n",
        "*   *list(:end)*\n",
        "*   *list(start:end)*\n",
        "*   *list(start:end:step)*\n"
      ],
      "metadata": {
        "id": "srFV0OW5HVcU"
      }
    },
    {
      "cell_type": "markdown",
      "source": [
        "FUNCTIONS"
      ],
      "metadata": {
        "id": "qaN8d7BVIAGt"
      }
    },
    {
      "cell_type": "code",
      "source": [
        "def remainder(n,m):\n",
        "  while True:\n",
        "    if n - m < 0:\n",
        "      return n\n",
        "    else:\n",
        "      n = n - m\n",
        "\n",
        "remainder(10,4)"
      ],
      "metadata": {
        "colab": {
          "base_uri": "https://localhost:8080/"
        },
        "id": "drdDIQNQISPs",
        "outputId": "537502bf-0a8e-4b25-ed12-0d884e82f135"
      },
      "execution_count": null,
      "outputs": [
        {
          "output_type": "execute_result",
          "data": {
            "text/plain": [
              "2"
            ]
          },
          "metadata": {},
          "execution_count": 105
        }
      ]
    },
    {
      "cell_type": "markdown",
      "source": [
        "# Challenge 2"
      ],
      "metadata": {
        "id": "AUf8ZgsIIuow"
      }
    },
    {
      "cell_type": "code",
      "source": [
        "import numpy as np\n",
        "np.random.randint(0,2)"
      ],
      "metadata": {
        "colab": {
          "base_uri": "https://localhost:8080/"
        },
        "id": "ift37iYsIyAq",
        "outputId": "3a65891a-aab6-4864-d94b-584559244683"
      },
      "execution_count": 28,
      "outputs": [
        {
          "output_type": "execute_result",
          "data": {
            "text/plain": [
              "1"
            ]
          },
          "metadata": {},
          "execution_count": 28
        }
      ]
    },
    {
      "cell_type": "code",
      "source": [
        "def coin_flip(n):\n",
        " trials = 0 # counter variable\n",
        " result = [] # list of outcomes\n",
        "\n",
        " while trials < n:\n",
        "  flip = np.random.randint(0,2) # 0 as start, 2 as stop (picks only 0 or 1)\n",
        "  result.append(flip) # appends outcome of flip to result set\n",
        "  trials += 1\n",
        "\n",
        " return result # output of function\n",
        "\n",
        "print([var for var in coin_flip(8)])"
      ],
      "metadata": {
        "colab": {
          "base_uri": "https://localhost:8080/"
        },
        "id": "lWkqU3gYJ68Z",
        "outputId": "087dcb88-eafd-425f-cb73-23b3f3573d57"
      },
      "execution_count": 37,
      "outputs": [
        {
          "output_type": "stream",
          "name": "stdout",
          "text": [
            "[1, 0, 1, 1, 0, 1, 1, 0]\n"
          ]
        }
      ]
    }
  ]
}